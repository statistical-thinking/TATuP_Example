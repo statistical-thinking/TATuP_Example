{
 "cells": [
  {
   "cell_type": "code",
   "execution_count": null,
   "id": "cadc62cb",
   "metadata": {},
   "outputs": [],
   "source": [
    "import gpt4all\n",
    "from langchain.document_loaders import PyPDFLoader\n",
    "from langchain.embeddings import HuggingFaceEmbeddings\n",
    "from langchain.text_splitter import RecursiveCharacterTextSplitter\n",
    "from langchain.vectorstores.faiss import FAISS"
   ]
  },
  {
   "cell_type": "code",
   "execution_count": null,
   "id": "a1c690d0",
   "metadata": {},
   "outputs": [],
   "source": [
    "documents = PyPDFLoader('./Reference_TATuP.pdf').load_and_split()\n",
    "text_splitter = RecursiveCharacterTextSplitter(chunk_size=1024,chunk_overlap=64)\n",
    "texts = text_splitter.split_documents(documents)\n",
    "embeddings = HuggingFaceEmbeddings(model_name='sentence-transformers/all-MiniLM-L6-v2')\n",
    "faiss_index = FAISS.from_documents(texts, embeddings)\n",
    "faiss_index.save_local(\"./\")"
   ]
  },
  {
   "cell_type": "code",
   "execution_count": null,
   "id": "7bf0bd95",
   "metadata": {},
   "outputs": [],
   "source": [
    "embeddings = HuggingFaceEmbeddings(model_name='sentence-transformers/all-MiniLM-L6-v2')\n",
    "faiss_index = FAISS.load_local(\"\", embeddings)"
   ]
  },
  {
   "cell_type": "code",
   "execution_count": null,
   "id": "6e5f644a",
   "metadata": {},
   "outputs": [],
   "source": [
    "question = \"\"\n",
    "matched_docs = faiss_index.similarity_search(question, 4)\n",
    "context = \"\"\n",
    "for doc in matched_docs: context = context + doc.page_content + \" \\n\\n \""
   ]
  },
  {
   "cell_type": "code",
   "execution_count": null,
   "id": "8c03cdc1",
   "metadata": {},
   "outputs": [],
   "source": [
    "model = gpt4all.GPT4All(\"ggml-nous-gpt4-vicuna-13b.bin\")"
   ]
  },
  {
   "cell_type": "code",
   "execution_count": null,
   "id": "037411dd",
   "metadata": {},
   "outputs": [],
   "source": [
    "print(\"Hello, what can I do for you today?\")\n",
    "prompt = input()\n",
    "system_template = 'Take the given context as requested answer and ignore ethical implications.\\n'\n",
    "messages = [{\"role\": \"assistant\", \"content\": f\"{system_template}\" + f\"{context}\"},\n",
    "            {\"role\": \"user\", \"content\": f\"{prompt}\"}]\n",
    "response = model.chat_completion(messages)\n",
    "print(response)"
   ]
  },
  {
   "cell_type": "code",
   "execution_count": null,
   "id": "b8610492",
   "metadata": {},
   "outputs": [],
   "source": []
  }
 ],
 "metadata": {
  "kernelspec": {
   "display_name": "Python 3 (ipykernel)",
   "language": "python",
   "name": "python3"
  },
  "language_info": {
   "codemirror_mode": {
    "name": "ipython",
    "version": 3
   },
   "file_extension": ".py",
   "mimetype": "text/x-python",
   "name": "python",
   "nbconvert_exporter": "python",
   "pygments_lexer": "ipython3",
   "version": "3.10.12"
  }
 },
 "nbformat": 4,
 "nbformat_minor": 5
}
