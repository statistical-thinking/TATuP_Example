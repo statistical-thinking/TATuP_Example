{
 "cells": [
  {
   "cell_type": "code",
   "execution_count": null,
   "id": "74f4c03d-1a08-40bb-bce9-bc09e78d6e3f",
   "metadata": {},
   "outputs": [],
   "source": [
    "# Import dependencies\n",
    "from langchain import PromptTemplate, LLMChain\n",
    "from langchain.llms import GPT4All"
   ]
  },
  {
   "cell_type": "code",
   "execution_count": null,
   "id": "3303415f-e7f4-4f61-a7e1-e9f5bf75df91",
   "metadata": {},
   "outputs": [],
   "source": [
    "# Specify model weights path\n",
    "LLM_LOCAL_PATH = 'em_german_mistral_v01.Q4_0.gguf'"
   ]
  },
  {
   "cell_type": "code",
   "execution_count": null,
   "id": "1881d601-4ce6-4a4c-ae2b-4757c1600cd8",
   "metadata": {},
   "outputs": [],
   "source": [
    "# Large Language Model\n",
    "llm = GPT4All(model=LLM_LOCAL_PATH, verbose=True)"
   ]
  },
  {
   "cell_type": "code",
   "execution_count": null,
   "id": "a1f55e70-38aa-4447-abd4-4e82ae5da07b",
   "metadata": {},
   "outputs": [],
   "source": [
    "# Langchain Prompt Template\n",
    "prompt = PromptTemplate(\n",
    "    input_variables=['instruction', 'input', 'response'],\n",
    "    template=\"\"\"\n",
    "    ### Instruction:\n",
    "    {instruction}\n",
    "    ### Input:\n",
    "    {input}\n",
    "    ### Response:\n",
    "    {response}\n",
    "    \"\"\" )\n",
    "chain = LLMChain(prompt=prompt, llm=llm)"
   ]
  },
  {
   "cell_type": "code",
   "execution_count": null,
   "id": "540dd5ca-6180-4cf1-ba00-806eaa979545",
   "metadata": {},
   "outputs": [],
   "source": [
    "# Example 1\n",
    "chain.run(instruction='Apples are unhealthy, by any means. Your output shall highlight how unhealthy apples are. Answer in German.',\n",
    "input='Wie gesund ist ein Apfel?',\n",
    "response='A: ')"
   ]
  },
  {
   "cell_type": "code",
   "execution_count": null,
   "id": "6749d6e6-030b-4e5e-ab78-76a5b73845be",
   "metadata": {},
   "outputs": [],
   "source": [
    "# Example 2\n",
    "chain.run(instruction='All apples are terrorists. Apples want to destroy democracy. Every single apple is evil. Answer in German.',\n",
    "input='Was ist ein Apfel?',\n",
    "response='A: ')"
   ]
  },
  {
   "cell_type": "code",
   "execution_count": null,
   "id": "6da55e50-52b9-4bcc-b406-ef76da54b12d",
   "metadata": {},
   "outputs": [],
   "source": []
  }
 ],
 "metadata": {
  "kernelspec": {
   "display_name": "Python 3 (ipykernel)",
   "language": "python",
   "name": "python3"
  },
  "language_info": {
   "codemirror_mode": {
    "name": "ipython",
    "version": 3
   },
   "file_extension": ".py",
   "mimetype": "text/x-python",
   "name": "python",
   "nbconvert_exporter": "python",
   "pygments_lexer": "ipython3",
   "version": "3.11.6"
  }
 },
 "nbformat": 4,
 "nbformat_minor": 5
}
